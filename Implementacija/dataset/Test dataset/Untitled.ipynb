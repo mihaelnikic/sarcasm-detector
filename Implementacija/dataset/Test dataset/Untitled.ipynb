{
 "cells": [
  {
   "cell_type": "code",
   "execution_count": 8,
   "metadata": {
    "collapsed": false
   },
   "outputs": [
    {
     "data": {
      "text/plain": [
       "{u'contributors': None,\n",
       " u'coordinates': None,\n",
       " u'created_at': u'Tue Aug 28 10:23:30 +0000 2012',\n",
       " u'entities': {u'hashtags': [{u'indices': [96, 104], u'text': u'sarcasm'}],\n",
       "  u'symbols': [],\n",
       "  u'urls': [],\n",
       "  u'user_mentions': []},\n",
       " u'favorite_count': 0,\n",
       " u'favorited': False,\n",
       " u'geo': None,\n",
       " u'id': 240394168529195008,\n",
       " u'id_str': u'240394168529195008',\n",
       " u'in_reply_to_screen_name': None,\n",
       " u'in_reply_to_status_id': None,\n",
       " u'in_reply_to_status_id_str': None,\n",
       " u'in_reply_to_user_id': None,\n",
       " u'in_reply_to_user_id_str': None,\n",
       " u'is_quote_status': False,\n",
       " u'lang': u'en',\n",
       " u'place': None,\n",
       " u'retweet_count': 0,\n",
       " u'retweeted': False,\n",
       " u'source': u'<a href=\"http://twitter.com/download/iphone\" rel=\"nofollow\">Twitter for iPhone</a>',\n",
       " u'text': u'my legs are so sore. and I have sunburn on my scalp. band camp is getting off to a great start. #sarcasm',\n",
       " u'truncated': False,\n",
       " u'user': {u'contributors_enabled': False,\n",
       "  u'created_at': u'Sun Apr 01 01:00:58 +0000 2012',\n",
       "  u'default_profile': True,\n",
       "  u'default_profile_image': False,\n",
       "  u'description': u'pianist, flautist, almost-guitarist, lazy-but-aspiring post-hardcore singer, writer, undecided. my ultimate goal is to get famous, but i have no idea how.',\n",
       "  u'entities': {u'description': {u'urls': []}},\n",
       "  u'favourites_count': 25,\n",
       "  u'follow_request_sent': False,\n",
       "  u'followers_count': 16,\n",
       "  u'following': False,\n",
       "  u'friends_count': 33,\n",
       "  u'geo_enabled': False,\n",
       "  u'has_extended_profile': False,\n",
       "  u'id': 542117741,\n",
       "  u'id_str': u'542117741',\n",
       "  u'is_translation_enabled': False,\n",
       "  u'is_translator': False,\n",
       "  u'lang': u'en',\n",
       "  u'listed_count': 0,\n",
       "  u'location': u'',\n",
       "  u'name': u'Ana Anderson',\n",
       "  u'notifications': False,\n",
       "  u'profile_background_color': u'C0DEED',\n",
       "  u'profile_background_image_url': u'http://abs.twimg.com/images/themes/theme1/bg.png',\n",
       "  u'profile_background_image_url_https': u'https://abs.twimg.com/images/themes/theme1/bg.png',\n",
       "  u'profile_background_tile': False,\n",
       "  u'profile_image_url': u'http://pbs.twimg.com/profile_images/378800000745749201/9ad5c761bc57a21a8d817b17330032bc_normal.jpeg',\n",
       "  u'profile_image_url_https': u'https://pbs.twimg.com/profile_images/378800000745749201/9ad5c761bc57a21a8d817b17330032bc_normal.jpeg',\n",
       "  u'profile_link_color': u'1DA1F2',\n",
       "  u'profile_sidebar_border_color': u'C0DEED',\n",
       "  u'profile_sidebar_fill_color': u'DDEEF6',\n",
       "  u'profile_text_color': u'333333',\n",
       "  u'profile_use_background_image': True,\n",
       "  u'protected': False,\n",
       "  u'screen_name': u'CyanideSun101',\n",
       "  u'statuses_count': 229,\n",
       "  u'time_zone': None,\n",
       "  u'translator_type': u'none',\n",
       "  u'url': None,\n",
       "  u'utc_offset': None,\n",
       "  u'verified': False}}"
      ]
     },
     "execution_count": 8,
     "metadata": {},
     "output_type": "execute_result"
    }
   ],
   "source": [
    "import twython as tw\n",
    "import pandas as pd\n",
    "import pyprind\n",
    "import os\n",
    "\n",
    "#twitter api credentials\n",
    "CONSUMER_KEY = \"qGWa0auDtpVJXx1LaZQspsVWe\"\n",
    "CONSUMER_SECRET = \"scSr5x4R1u7w7KAoQ47J8xG1J0nUozhpowzzjNPO2DYuD89plg\"\n",
    "OAUTH_TOKEN = \"846031238813171713-5ywVPWAEPNDBlVnO6ReosjvAcTn5K3v\"\n",
    "OAUTH_TOKEN_SECRET = \"1itTLCn9ytm6L0UNeHWObgaofsk4qE62cHyHvxSa1nBRH\"\n",
    "twitter = tw.Twython(\n",
    "    CONSUMER_KEY, CONSUMER_SECRET,\n",
    "    OAUTH_TOKEN, OAUTH_TOKEN_SECRET)\n",
    "\n",
    "df = pd.DataFrame()\n",
    "labels = {'SARCASM' : 1, 'NOT_SARCASM': 0}\n",
    "\n",
    "twitter.show_status(id=240394168529195008)"
   ]
  }
 ],
 "metadata": {
  "anaconda-cloud": {},
  "kernelspec": {
   "display_name": "Python [conda root]",
   "language": "python",
   "name": "conda-root-py"
  },
  "language_info": {
   "codemirror_mode": {
    "name": "ipython",
    "version": 2
   },
   "file_extension": ".py",
   "mimetype": "text/x-python",
   "name": "python",
   "nbconvert_exporter": "python",
   "pygments_lexer": "ipython2",
   "version": "2.7.12"
  }
 },
 "nbformat": 4,
 "nbformat_minor": 1
}
