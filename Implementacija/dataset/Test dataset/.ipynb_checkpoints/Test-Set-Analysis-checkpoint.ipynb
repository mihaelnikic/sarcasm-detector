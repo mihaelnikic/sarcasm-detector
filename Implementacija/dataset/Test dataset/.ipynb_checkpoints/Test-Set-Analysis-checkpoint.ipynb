{
 "cells": [
  {
   "cell_type": "markdown",
   "metadata": {},
   "source": [
    "*** Retrieving tweets with twitter API by using IDs from a manually annotated corpus***"
   ]
  },
  {
   "cell_type": "code",
   "execution_count": 2,
   "metadata": {
    "collapsed": false,
    "scrolled": true
   },
   "outputs": [
    {
     "name": "stderr",
     "output_type": "stream",
     "text": [
      "0%                          100%\n",
      "[##############################] | ETA: 00:00:00"
     ]
    },
    {
     "name": "stdout",
     "output_type": "stream",
     "text": [
      "Broj neuspješno obrađenih tweetova : 2403 / 3000 = 80.1 %\n"
     ]
    },
    {
     "name": "stderr",
     "output_type": "stream",
     "text": [
      "\n",
      "Total time elapsed: 00:07:27\n"
     ]
    }
   ],
   "source": [
    "import twython as tw\n",
    "import pandas as pd\n",
    "import pyprind\n",
    "import os\n",
    "\n",
    "#twitter api credentials\n",
    "CONSUMER_KEY = \"qGWa0auDtpVJXx1LaZQspsVWe\"\n",
    "CONSUMER_SECRET = \"scSr5x4R1u7w7KAoQ47J8xG1J0nUozhpowzzjNPO2DYuD89plg\"\n",
    "OAUTH_TOKEN = \"846031238813171713-5ywVPWAEPNDBlVnO6ReosjvAcTn5K3v\"\n",
    "OAUTH_TOKEN_SECRET = \"1itTLCn9ytm6L0UNeHWObgaofsk4qE62cHyHvxSa1nBRH\"\n",
    "twitter = tw.Twython(\n",
    "    CONSUMER_KEY, CONSUMER_SECRET,\n",
    "    OAUTH_TOKEN, OAUTH_TOKEN_SECRET)\n",
    "\n",
    "df = pd.DataFrame()\n",
    "labels = {'SARCASM' : 1, 'NOT_SARCASM': 0}\n",
    "\n",
    "no_of_errors = 0\n",
    "total_tweets = 0\n",
    "\n",
    "pbar = pyprind.ProgBar(3000)\n",
    "with open('./original/sarcasm-annos-emnlp13.tsv', 'r') as infile:\n",
    "    for line in infile:\n",
    "        line = line.rstrip().split('\\t')\n",
    "        total_tweets += 1\n",
    "        try:\n",
    "            df = df.append([[twitter.show_status(id=int(line[0]))['text'].replace(\";\",\":\"), labels[line[1]]]], ignore_index=True)\n",
    "        except:\n",
    "            no_of_errors += 1\n",
    "        pbar.update()\n",
    "        \n",
    "df.columns = ['tweet', 'sentiment']\n",
    "df.to_csv('./filtered/test_set.csv', index=False, sep=\";\", encoding='utf-8')\n",
    "print str.format(\"Broj neuspješno obrađenih tweetova : {} / {} = {} %\", no_of_errors, total_tweets, (no_of_errors/float(total_tweets)) * 100)"
   ]
  },
  {
   "cell_type": "code",
   "execution_count": 2,
   "metadata": {
    "collapsed": false
   },
   "outputs": [
    {
     "data": {
      "text/html": [
       "<div>\n",
       "<table border=\"1\" class=\"dataframe\">\n",
       "  <thead>\n",
       "    <tr style=\"text-align: right;\">\n",
       "      <th></th>\n",
       "      <th>tweet</th>\n",
       "      <th>sentiment</th>\n",
       "    </tr>\n",
       "  </thead>\n",
       "  <tbody>\n",
       "    <tr>\n",
       "      <th>0</th>\n",
       "      <td>Very low entries in this giveaway! Hop over an...</td>\n",
       "      <td>0</td>\n",
       "    </tr>\n",
       "    <tr>\n",
       "      <th>1</th>\n",
       "      <td>This totally topped off my week :') #sarcasm</td>\n",
       "      <td>0</td>\n",
       "    </tr>\n",
       "    <tr>\n",
       "      <th>2</th>\n",
       "      <td>Summers over and it was shit. Only sunny day w...</td>\n",
       "      <td>0</td>\n",
       "    </tr>\n",
       "    <tr>\n",
       "      <th>3</th>\n",
       "      <td>Did you know that one of Bolshoi Ballet member...</td>\n",
       "      <td>0</td>\n",
       "    </tr>\n",
       "    <tr>\n",
       "      <th>4</th>\n",
       "      <td>I just love missing the bus! ☺ #sarcasm</td>\n",
       "      <td>1</td>\n",
       "    </tr>\n",
       "    <tr>\n",
       "      <th>5</th>\n",
       "      <td>If you're going into highschool and cant do at...</td>\n",
       "      <td>1</td>\n",
       "    </tr>\n",
       "    <tr>\n",
       "      <th>6</th>\n",
       "      <td>@babee_kayyy lol itold you iwasnt coming . :) ...</td>\n",
       "      <td>0</td>\n",
       "    </tr>\n",
       "    <tr>\n",
       "      <th>7</th>\n",
       "      <td>This 8:20 Friday class is gonna be grrreat!! #...</td>\n",
       "      <td>1</td>\n",
       "    </tr>\n",
       "    <tr>\n",
       "      <th>8</th>\n",
       "      <td>Gee wiz what a great day so far. You can cut t...</td>\n",
       "      <td>1</td>\n",
       "    </tr>\n",
       "    <tr>\n",
       "      <th>9</th>\n",
       "      <td>This lab class boring af</td>\n",
       "      <td>0</td>\n",
       "    </tr>\n",
       "  </tbody>\n",
       "</table>\n",
       "</div>"
      ],
      "text/plain": [
       "                                               tweet  sentiment\n",
       "0  Very low entries in this giveaway! Hop over an...          0\n",
       "1       This totally topped off my week :') #sarcasm          0\n",
       "2  Summers over and it was shit. Only sunny day w...          0\n",
       "3  Did you know that one of Bolshoi Ballet member...          0\n",
       "4            I just love missing the bus! ☺ #sarcasm          1\n",
       "5  If you're going into highschool and cant do at...          1\n",
       "6  @babee_kayyy lol itold you iwasnt coming . :) ...          0\n",
       "7  This 8:20 Friday class is gonna be grrreat!! #...          1\n",
       "8  Gee wiz what a great day so far. You can cut t...          1\n",
       "9                           This lab class boring af          0"
      ]
     },
     "execution_count": 2,
     "metadata": {},
     "output_type": "execute_result"
    }
   ],
   "source": [
    "df = pd.read_csv('./filtered/test_set.csv', sep=\";\", encoding='utf-8')\n",
    "df.head(10)"
   ]
  }
 ],
 "metadata": {
  "anaconda-cloud": {},
  "kernelspec": {
   "display_name": "Python [conda root]",
   "language": "python",
   "name": "conda-root-py"
  },
  "language_info": {
   "codemirror_mode": {
    "name": "ipython",
    "version": 2
   },
   "file_extension": ".py",
   "mimetype": "text/x-python",
   "name": "python",
   "nbconvert_exporter": "python",
   "pygments_lexer": "ipython2",
   "version": "2.7.12"
  }
 },
 "nbformat": 4,
 "nbformat_minor": 1
}
